{
 "cells": [
  {
   "cell_type": "markdown",
   "source": [
    "## Homework 3\n",
    "## Randall Mencias"
   ],
   "metadata": {
    "collapsed": false
   }
  },
  {
   "cell_type": "code",
   "execution_count": 19,
   "outputs": [],
   "source": [
    "import time\n",
    "import random\n",
    "import matplotlib.pyplot as plt\n",
    "%matplotlib inline\n",
    "def clock(func):\n",
    "    def inner(*arg, **kwargs):\n",
    "        start = time.time() * 10 ** 3\n",
    "        answer = func(*arg, **kwargs)\n",
    "        # time.sleep(0.001)\n",
    "        end = time.time() * 10 ** 3\n",
    "        # print(\"Execution Time:\" + str(end - start))\n",
    "        return answer, (end - start)\n",
    "\n",
    "    return inner\n"
   ],
   "metadata": {
    "collapsed": false
   }
  },
  {
   "cell_type": "markdown",
   "source": [
    "# Class Code\n",
    "Node and Single linked list"
   ],
   "metadata": {
    "collapsed": false
   }
  },
  {
   "cell_type": "code",
   "execution_count": 20,
   "outputs": [],
   "source": [
    "class Node:  # Implements Nodes with code shown in class\n",
    "    \"\"\"\n",
    "    Implementation of a node\n",
    "    \"\"\"\n",
    "\n",
    "    def __init__(self, val=None):\n",
    "        self.val = val\n",
    "        self.next_node = None\n",
    "\n",
    "    def set_next_node(self, next_node):\n",
    "        self.next_node = next_node\n",
    "\n",
    "\n",
    "class Singly_linked_list(object):\n",
    "\n",
    "    def __init__(self, head_node=None):\n",
    "        self.head_node = head_node\n",
    "\n",
    "    # Using what was shown in class the object is implemented\n",
    "    def list_traversed(self):\n",
    "        \"\"\"\n",
    "        Output: prints list\n",
    "         \"\"\"\n",
    "        node = self.head_node\n",
    "        while node:\n",
    "            print(node.val)\n",
    "            node = node.next_node\n",
    "\n",
    "    def insert_head(self, new_node):\n",
    "        \"\"\"\n",
    "        Inserts new head\n",
    "        Input: Node\n",
    "        \"\"\"\n",
    "        new_node.set_next_node(self.head_node)\n",
    "        self.head_node = new_node\n",
    "\n",
    "    def insert_tail(self, new_node):\n",
    "        \"\"\"\n",
    "                Inserts new tail\n",
    "                Input: Node\n",
    "                \"\"\"\n",
    "        node = self.head_node\n",
    "        prev = None\n",
    "        while node:\n",
    "            prev = node\n",
    "            node = node.next_node\n",
    "        prev.set_next_node(new_node)\n",
    "\n",
    "    def insert_middle(self, new_node, value):\n",
    "        \"\"\"\n",
    "                Inserts Node after value\n",
    "                Input: Node\n",
    "                value: Node before new Node\n",
    "                \"\"\"\n",
    "        node = self.head_node\n",
    "        while node.val != value:\n",
    "            node = node.next_node\n",
    "        if node:\n",
    "            new_node.set_next_node(node.next_node)\n",
    "            node.set_next_node(new_node)\n",
    "        else:\n",
    "            self.insert_tail(new_node)\n",
    "\n",
    "    def delete(self):\n",
    "        \"\"\"\n",
    "        Deletes Head and replaces with next node\n",
    "        \"\"\"\n",
    "        node = self.head_node\n",
    "        self.head_node = node.next_node\n",
    "        node = None\n",
    "\n",
    "    # merges 2 lists through recursion"
   ],
   "metadata": {
    "collapsed": false
   }
  },
  {
   "cell_type": "markdown",
   "source": [
    "### 1. Merge two sorted lists\n",
    "\n",
    "1. Assume you have two sorted linked lists. Use **recursion** to merge these lists and return a new sorted list.\n"
   ],
   "metadata": {
    "collapsed": false
   }
  },
  {
   "cell_type": "code",
   "execution_count": 21,
   "outputs": [
    {
     "name": "stdout",
     "output_type": "stream",
     "text": [
      "1\n",
      "2\n",
      "3\n",
      "4\n",
      "5\n",
      "6\n",
      "7\n"
     ]
    }
   ],
   "source": [
    "def merge(L1, L2):\n",
    "\n",
    "    temp = None\n",
    "\n",
    "    if L1 is None:\n",
    "        return L2\n",
    "\n",
    "    if L2 is None:\n",
    "        return L1\n",
    "\n",
    "    if L1.val <= L2.val:\n",
    "\n",
    "        temp = L1\n",
    "        temp.next_node = merge(L1.next_node, L2)\n",
    "    else:\n",
    "        temp = L2\n",
    "        temp.next_node = merge(L1, L2.next_node)\n",
    "\n",
    "    return temp\n",
    "\n",
    "\n",
    "list1 = Singly_linked_list()\n",
    "list1.insert_head(Node(7))\n",
    "list1.insert_head(Node(5))\n",
    "list1.insert_head(Node(3))\n",
    "list1.insert_head(Node(1))\n",
    "\n",
    "\n",
    "list2 = Singly_linked_list()\n",
    "list2.insert_head(Node(6))\n",
    "list2.insert_head(Node(4))\n",
    "list2.insert_head(Node(2))\n",
    "\n",
    "list3 = Singly_linked_list()\n",
    "\n",
    "list3.head_node = merge(list1.head_node, list2.head_node)\n",
    "list3.list_traversed()\n"
   ],
   "metadata": {
    "collapsed": false
   }
  },
  {
   "cell_type": "markdown",
   "source": [
    "2. Calculate complexity"
   ],
   "metadata": {
    "collapsed": false
   }
  },
  {
   "cell_type": "markdown",
   "source": [
    "### 2. Implement quick sort\n",
    "\n",
    "1. Use the divide and conquer technique to implement the quick sort algorithm studied in class.\n",
    "2. Use a couple of parragraphs to explain the steps of divide and conquer:\n",
    "    - how/where do you divide?\n",
    "    - where/what do you conquer?\n",
    "    - how/what do you combine?\n",
    "3. Analyze complexity"
   ],
   "metadata": {
    "collapsed": false
   }
  },
  {
   "cell_type": "code",
   "execution_count": 22,
   "outputs": [
    {
     "name": "stdout",
     "output_type": "stream",
     "text": [
      "[1, 3, 4, 4, 5, 6, 8, 10]\n"
     ]
    }
   ],
   "source": [
    "def quicksort(list):\n",
    "    if len(list) <= 1:\n",
    "        return list\n",
    "    pivot = list.pop()\n",
    "    l1 = []\n",
    "    l2 = []\n",
    "    for i in list:\n",
    "        if i <= pivot:\n",
    "            l1.append(i)\n",
    "        else:\n",
    "            l2.append(i)\n",
    "\n",
    "    return quicksort(l1) + [pivot] + quicksort(l2)\n",
    "\n",
    "list1 = [4, 5, 3, 1, 10, 4, 6, 8]\n",
    "print(quicksort(list1))"
   ],
   "metadata": {
    "collapsed": false
   }
  },
  {
   "cell_type": "markdown",
   "source": [
    "sdf"
   ],
   "metadata": {
    "collapsed": false
   }
  },
  {
   "cell_type": "markdown",
   "source": [
    "### 3. Compare quick sort and merge sort\n",
    "\n",
    "1. Generate 1000 random permutations of arrays of integers between 1 to 10000.\n",
    "2. Execute merge sort and quick sort for each of the permutations\n",
    "3. Calculate the execution time of these runs, and compare them using the statistics of the measured executed time.\n",
    "4. Explain the differences. Which algorithm is better? When would you use each?"
   ],
   "metadata": {
    "collapsed": false
   }
  },
  {
   "cell_type": "code",
   "execution_count": 23,
   "outputs": [],
   "source": [
    "@clock\n",
    "def merge_sort(nums):\n",
    "    if len(nums) <= 1:\n",
    "        return nums\n",
    "    pivot = int(len(nums) / 2)\n",
    "    left = merge_sort(nums[0:pivot])[0]\n",
    "    right = merge_sort(nums[pivot:])[0]\n",
    "    return merge(left, right)\n",
    "\n",
    "\n",
    "def merge(left, right):\n",
    "    left_pointer = 0\n",
    "    right_pointer = 0\n",
    "    sorted_list = []\n",
    "    while left_pointer < len(left) and right_pointer < len(right):\n",
    "        if left[left_pointer] < right[right_pointer]:\n",
    "            sorted_list.append(left[left_pointer])\n",
    "            left_pointer += 1\n",
    "        else:\n",
    "            sorted_list.append(right[right_pointer])\n",
    "            right_pointer += 1\n",
    "\n",
    "    sorted_list.extend(left[left_pointer:])\n",
    "    sorted_list.extend(right[right_pointer:])\n",
    "\n",
    "    return sorted_list\n",
    "\n",
    "\n",
    "@clock\n",
    "def quicksort(list):\n",
    "    if len(list) <= 1:\n",
    "        return list\n",
    "    pivot = list.pop()\n",
    "    l1 = []\n",
    "    l2 = []\n",
    "    for i in list:\n",
    "        if i <= pivot:\n",
    "            l1.append(i)\n",
    "        else:\n",
    "            l2.append(i)\n",
    "\n",
    "    return quicksort(l1)[0] + [pivot] + quicksort(l2)[0]\n",
    "\n",
    "\n",
    "def random_list():\n",
    "    return [random.randint(1, 1000) for i in range(1000)]\n",
    "\n",
    "\n",
    "merge_sort_time = []\n",
    "quicksort_time = []\n",
    "lists = [random_list() for i in range(100)]\n",
    "# for i in lists:\n",
    "#     merge_sort_time.append(merge_sort(i)[1])\n",
    "#     quicksort_time.append(quicksort(i)[1])\n",
    "# merge_sort_time = [merge_sort(i)[1] for i in lists]\n",
    "# quicksort_time = [quicksort(i)[1] for i in lists]\n",
    "# print(merge_sort_time, quicksort_time)\n",
    "# plt.plot(merge_sort_time, label=\"Merge Sort\")\n",
    "# plt.plot(quicksort_time, label=\"Quick Sort\")\n",
    "# plt.legend()\n",
    "# plt.grid\n",
    "# plt.show()\n"
   ],
   "metadata": {
    "collapsed": false
   }
  },
  {
   "cell_type": "code",
   "execution_count": 23,
   "outputs": [],
   "source": [],
   "metadata": {
    "collapsed": false
   }
  },
  {
   "cell_type": "markdown",
   "source": [
    "### 4. Implement factorials with recursion\n",
    "\n",
    "1. Use recursion to implement the factorial\n",
    "2. Run your code for numbers between 1 and 10000\n",
    "3. Calculate the execution time and plot it.\n",
    "4. What's the complexity?\n",
    "5. Implement memoization to improve the performance of your code\n",
    "6. Measure the runtime when you calculate the factorial for numbers between 1 and 10000.\n",
    "7. What's the complexity of your code using memoization?\n",
    "8. How does the first implementation and the one with memoization compare?\n"
   ],
   "metadata": {
    "collapsed": false
   }
  },
  {
   "cell_type": "code",
   "execution_count": 24,
   "outputs": [],
   "source": [
    "@clock\n",
    "def factorial(n):\n",
    "    if n == 1:\n",
    "        return 1\n",
    "    return n * factorial(n - 1)[0]\n",
    "\n",
    "\n",
    "\n",
    "\n",
    "\n",
    "@clock\n",
    "def factorial_memoization(n):\n",
    "    cache = {}\n",
    "\n",
    "    def recursive_factorial(n):\n",
    "        # time.sleep(0.0000000001)\n",
    "        if n in cache.keys():\n",
    "            return cache[n]\n",
    "        if n == 1:\n",
    "            return 1\n",
    "        else:\n",
    "            cache[n] = n * factorial(n - 1)[0]\n",
    "            return cache[n]\n",
    "\n",
    "    return recursive_factorial(n)\n",
    "\n",
    "\n",
    "# time.sleep(0.0000000001)\n",
    "# factorial_time = [factorial(i)[1] for i in range(1, 400)]\n",
    "# factorial_memoization_time = [factorial_memoization(i)[1] for i in range(1,400)]\n",
    "# plt.plot(factorial_time, label=\"factorial\")\n",
    "# plt.plot(factorial_memoization_time, label=\"factorial_memoization\")\n",
    "# plt.legend()\n",
    "# plt.grid()\n",
    "# plt.show()\n"
   ],
   "metadata": {
    "collapsed": false
   }
  }
 ],
 "metadata": {
  "kernelspec": {
   "display_name": "Python 3",
   "language": "python",
   "name": "python3"
  },
  "language_info": {
   "codemirror_mode": {
    "name": "ipython",
    "version": 2
   },
   "file_extension": ".py",
   "mimetype": "text/x-python",
   "name": "python",
   "nbconvert_exporter": "python",
   "pygments_lexer": "ipython2",
   "version": "2.7.6"
  }
 },
 "nbformat": 4,
 "nbformat_minor": 0
}
