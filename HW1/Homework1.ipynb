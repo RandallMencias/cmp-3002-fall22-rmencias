{
 "cells": [
  {
   "cell_type": "markdown",
   "source": [
    "# Homework 1\n"
   ],
   "metadata": {
    "collapsed": false
   }
  },
  {
   "cell_type": "markdown",
   "source": [
    "\n",
    "## Exercise 1\n",
    "\n",
    "![](../../../../Desktop/Picture3.png)\n",
    "\n",
    "If we look at the graph we can see that $n^2$ grow much faster than $nlog(n)$\n",
    "\n",
    "this can be proven as\n",
    "\n",
    "$[\\frac{n}{log(n)} \\geq 1]$\n"
   ],
   "metadata": {
    "collapsed": false
   }
  },
  {
   "cell_type": "markdown",
   "source": [
    "## Exercise 2\n",
    "![](../../../../Desktop/Picture2.png)"
   ],
   "metadata": {
    "collapsed": false
   }
  },
  {
   "cell_type": "markdown",
   "source": [
    "## Exercise 3\n"
   ],
   "metadata": {
    "collapsed": false
   }
  },
  {
   "cell_type": "code",
   "execution_count": null,
   "outputs": [],
   "source": [
    "def func1(n):\n",
    "    A = range(0,n)\n",
    "    sum = 0\n",
    "    i = 0\n",
    "    for x in A[i:]:\n",
    "        i += 1\n",
    "        for j in range(i, len(A)):\n",
    "            y = A[j]\n",
    "            k = j\n",
    "            while k < len(A):\n",
    "                z = A[k]\n",
    "                k = 2*k\n",
    "                if x + y <= z:\n",
    "                    sum += 1\n",
    "    return sum\n"
   ],
   "metadata": {
    "collapsed": false
   }
  },
  {
   "cell_type": "markdown",
   "source": [
    "$O(n^2log(n))$"
   ],
   "metadata": {
    "collapsed": false
   }
  },
  {
   "cell_type": "markdown",
   "source": [
    "![](../../../../Desktop/20221005_020426800_iOS.png)"
   ],
   "metadata": {
    "collapsed": false
   }
  },
  {
   "cell_type": "markdown",
   "source": [
    "## Exercise 4\n"
   ],
   "metadata": {
    "collapsed": false
   }
  },
  {
   "cell_type": "code",
   "execution_count": 1,
   "outputs": [
    {
     "name": "stdout",
     "output_type": "stream",
     "text": [
      "N Test\n",
      "n = 5\n",
      "Loop:\n",
      "Execution Time:0.0s\n",
      "Total Sum = 15\n",
      "\n",
      "Gaussian addition:\n",
      "Execution Time:0.0s\n",
      "Total Sum = 15\n",
      "\n",
      "n = 8\n",
      "Loop:\n",
      "Execution Time:0.0s\n",
      "Total Sum = 36\n",
      "\n",
      "Gaussian addition:\n",
      "Execution Time:0.0s\n",
      "Total Sum = 36\n",
      "\n",
      "n = 103\n",
      "Loop:\n",
      "Execution Time:0.0s\n",
      "Total Sum = 5356\n",
      "\n",
      "Gaussian addition:\n",
      "Execution Time:0.0s\n",
      "Total Sum = 5356\n",
      "\n",
      "n = 527\n",
      "Loop:\n",
      "Execution Time:0.0s\n",
      "Total Sum = 139128\n",
      "\n",
      "Gaussian addition:\n",
      "Execution Time:0.0s\n",
      "Total Sum = 139128\n",
      "\n",
      "N timings\n",
      "Execution Time:0.0s\n",
      "Total Sum = 1\n",
      "\n",
      "Execution Time:0.0s\n",
      "Total Sum = 55\n",
      "\n",
      "Execution Time:0.0s\n",
      "Total Sum = 5050\n",
      "\n",
      "Execution Time:0.0s\n",
      "Total Sum = 500500\n",
      "\n",
      "Execution Time:1000704.0s\n",
      "Total Sum = 50005000\n",
      "\n",
      "Execution Time:1999104.0s\n",
      "Total Sum = 5000050000\n",
      "\n",
      "Execution Time:25999616.0s\n",
      "Total Sum = 500000500000\n",
      "\n",
      "Execution Time:260999936.0s\n",
      "Total Sum = 50000005000000\n",
      "\n",
      "Execution Time:2669000192.0s\n",
      "Total Sum = 5000000050000000\n",
      "\n",
      "Execution Time:26688999168.0s\n",
      "Total Sum = 500000000500000000\n",
      "\n",
      "Execution Time:0.0s\n",
      "Total Sum = 1\n",
      "\n",
      "Execution Time:0.0s\n",
      "Total Sum = 55\n",
      "\n",
      "Execution Time:0.0s\n",
      "Total Sum = 5050\n",
      "\n",
      "Execution Time:0.0s\n",
      "Total Sum = 500500\n",
      "\n",
      "Execution Time:0.0s\n",
      "Total Sum = 50005000\n",
      "\n",
      "Execution Time:0.0s\n",
      "Total Sum = 5000050000\n",
      "\n",
      "Execution Time:0.0s\n",
      "Total Sum = 500000500000\n",
      "\n",
      "Execution Time:0.0s\n",
      "Total Sum = 50000005000000\n",
      "\n",
      "Execution Time:0.0s\n",
      "Total Sum = 5000000050000000\n",
      "\n",
      "Execution Time:0.0s\n",
      "Total Sum = 500000000500000000\n",
      "\n",
      "Sum1 runtimes: [0.0, 0.0, 0.0, 0.0, 1000704.0, 1999104.0, 25999616.0, 260999936.0, 2669000192.0, 26688999168.0]\n",
      "Sum2 runtimes: [0.0, 0.0, 0.0, 0.0, 0.0, 0.0, 0.0, 0.0, 0.0, 0.0]\n"
     ]
    }
   ],
   "source": [
    "from time import time\n",
    "import matplotlib\n",
    "matplotlib.use('TkAgg')\n",
    "import matplotlib.pyplot as plt\n",
    "from pandas import DataFrame\n",
    "\n",
    "\n",
    "def clock(func):\n",
    "    '''Time Decorator: Allows to obtain execution time of func'''\n",
    "    def inner(args):\n",
    "        start = time() * 10 ** 9 #changes to nano seconds\n",
    "        answer = func(args)\n",
    "        end = time() * 10 ** 9\n",
    "        print(\"Execution Time:\" + str(end - start) + \"s\\nTotal Sum = \" + str(answer) + \"\\n\")\n",
    "        return answer, end - start\n",
    "\n",
    "    return inner\n",
    "\n",
    "\n",
    "@clock\n",
    "def sum1(n):\n",
    "    '''Sum of all numbers until n through loop method'''\n",
    "    total = 0\n",
    "    for i in range(1, n + 1):\n",
    "        total += i\n",
    "    return total\n",
    "\n",
    "\n",
    "@clock\n",
    "def sum2(n):\n",
    "    '''Gaussian addition for n'''\n",
    "    total = n * (n + 1) // 2\n",
    "    return total\n",
    "\n",
    "\n",
    "def main(n):\n",
    "    print(\"n = \" + str(n) + \"\\nLoop:\")\n",
    "    sum1(n)\n",
    "    print(\"Gaussian addition:\")\n",
    "    sum2(n)\n",
    "\n",
    "\n",
    "if __name__ == \"__main__\":\n",
    "    print(\"N Test\")\n",
    "    main(5)\n",
    "    main(8)\n",
    "    main(103)\n",
    "    main(527)\n",
    "    print(\"N timings\")\n",
    "    runtime1 = [sum1(x)[1] for x in [1, 10, 100, 1000, 10000, 100000, 1000000, 10000000, 100000000, 1000000000]]\n",
    "    runtime2 = [sum2(x)[1] for x in [1, 10, 100, 1000, 10000, 100000, 1000000, 10000000, 100000000, 1000000000]]\n",
    "    x = [1, 10, 100, 1000, 10000, 100000, 1000000, 10000000, 100000000, 1000000000]\n",
    "    print(\"Sum1 runtimes:\", runtime1)\n",
    "    print(\"Sum2 runtimes:\", runtime2)\n",
    "    plt.plot(x, runtime1, label=\"Sum1\")\n",
    "    plt.plot(x, runtime2, label=\"Sum2\")\n",
    "    plt.xlabel('n')\n",
    "    plt.ylabel('runtime')\n",
    "    plt.title(\"Loop Vs Gaussian Sum\")\n",
    "    plt.grid()\n",
    "    plt.show()\n"
   ],
   "metadata": {
    "collapsed": false
   }
  },
  {
   "cell_type": "markdown",
   "source": [
    "If we estimate the functions analytically we can estimate both to start in 0 therefore:\n",
    "\n",
    "### sum1\n",
    "> $T_n_1$(*n*) = an+ 0\n",
    "> $T_n_1$(*1000000*) = an\n",
    "> $\\[a=\\frac{T_n_1(1000000)}{n}\\]$\n",
    "> $\\[a=\\frac{0.0339}{1000000}\\]$\n",
    "> $a$ = 3.39$E^{-8}\\ $\n",
    "> $T_n1$(*n*) = 3.39$E^{-8}*n $\n",
    "\n",
    "### sum2\n",
    "> $T_n_2$(*n*) = 0\n",
    "\n",
    "\n",
    "If we try to expand this to to $n = \\ 10^{100}$ we get\n",
    "$T_{n1}$($10^{100}$) = 3.39$E^{-8}*10^{100}$ = 3.39$E^{93}$ns or aprox 1.0$E^{75}$ centuries\n",
    "$T_{n2}$($10^{100}$) = 0\n"
   ],
   "metadata": {
    "collapsed": false
   }
  },
  {
   "cell_type": "markdown",
   "source": [
    "When the two algorithms are compared the difference in execution time is astounding even if it's only a linear difference. As one time is constant, there will never be a growth in the execution time, while with T1(n) the execution times grow linearly, and it may become overbearing on the CPU especially as the operations start to reach exponentials above 10."
   ],
   "metadata": {
    "collapsed": false
   }
  },
  {
   "cell_type": "markdown",
   "source": [
    "## Exercise 5\n",
    "\n",
    "We can rewrite this proposition and to reorganized it\n",
    "\n",
    "Worst case = $O(g(n))$ = $C_1g(n)$\n",
    "Best case = $\\Theta(g(n))$ = $C_2g(n)$\n",
    "\n",
    "then\n",
    "\n",
    "$ 0 \\leq C_2g(n) \\leq f(n) \\leq C_1g(n)$\n",
    "\n",
    "therefore:\n",
    "\n",
    "$0 \\leq f(n) \\leq C_1g(n) = O(g(n))$\n",
    "\n",
    "$0 \\leq C_2g(n)\\leq f(n)  $ = $\\Theta(g(n))$\n",
    "\n"
   ],
   "metadata": {
    "collapsed": false
   }
  },
  {
   "cell_type": "markdown",
   "source": [
    "## Exercise 6\n",
    "1. $ \\sum_{\\mathrm{i=2}}^{\\mathrm{n}}\\mathrm{(i-1)} $\n",
    "2. $\\sqrt n$\n",
    "3. $n^3$\n",
    "4. $(\\begin{matrix}n\\\\4\\\\\\end{matrix})$"
   ],
   "metadata": {
    "collapsed": false
   }
  },
  {
   "cell_type": "markdown",
   "source": [
    "## Exercise 7\n",
    "\n"
   ],
   "metadata": {
    "collapsed": false
   }
  },
  {
   "cell_type": "code",
   "execution_count": null,
   "outputs": [],
   "source": [
    "    def delete_tail(self):\n",
    "        \"\"\"\n",
    "        Deletes var at tail of array\n",
    "        \"\"\"\n",
    "        if self.l == 0:\n",
    "            raise ValueError(\"no items to delete\")\n",
    "        self.array[self.l-1] = None #deletes tail\n",
    "        self.l -= 1 #updates length\n",
    "\n",
    "    def delete_head(self):\n",
    "        \"\"\"\n",
    "        Deletes var at head of array\n",
    "        \"\"\"\n",
    "        if self.l == 0:\n",
    "            raise ValueError(\"no items to delete\")\n",
    "        self.array[0] = None\n",
    "        for i in range(0,self.l-1):\n",
    "            self.array[i] = self.array[i+1] #assigns new head\n",
    "        self.l -= 1 #updates length\n",
    "        self.array[self.l]= None\n",
    "\n",
    "    def delete(self, index):\n",
    "        \"\"\"\n",
    "        Deletes var at index\n",
    "        \"\"\"\n",
    "        if (index < 0) or (index >= self.l):\n",
    "            raise IndexError('index out of range!')\n",
    "\n",
    "        self.array[index] = None\n",
    "        for i in range(index, self.l-1):\n",
    "            self.array[i] = self.array[i+1] #moves all data to new position\n",
    "\n",
    "        self.l -= 1 # updates length\n",
    "        self.array[self.l] = None"
   ],
   "metadata": {
    "collapsed": false
   }
  },
  {
   "cell_type": "code",
   "execution_count": null,
   "outputs": [],
   "source": [
    "x = Array(5,[3,2,1,4,5])\n",
    "    print(x.list_array2())\n",
    "    x.delete_head()\n",
    "    print(x.list_array2())\n",
    "    x.insert_to_head(133)\n",
    "    print(x.list_array2())\n",
    "    x.delete_tail()\n",
    "    print(x.list_array2())\n",
    "    x.delete(2)\n",
    "    print(x.list_array2())\n"
   ],
   "metadata": {
    "collapsed": false
   }
  }
 ],
 "metadata": {
  "kernelspec": {
   "display_name": "Python 3",
   "language": "python",
   "name": "python3"
  },
  "language_info": {
   "codemirror_mode": {
    "name": "ipython",
    "version": 2
   },
   "file_extension": ".py",
   "mimetype": "text/x-python",
   "name": "python",
   "nbconvert_exporter": "python",
   "pygments_lexer": "ipython2",
   "version": "2.7.6"
  }
 },
 "nbformat": 4,
 "nbformat_minor": 0
}
